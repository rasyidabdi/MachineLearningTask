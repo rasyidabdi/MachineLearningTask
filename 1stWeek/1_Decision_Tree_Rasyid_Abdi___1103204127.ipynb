{
  "nbformat": 4,
  "nbformat_minor": 0,
  "metadata": {
    "colab": {
      "provenance": [],
      "mount_file_id": "17wflYjyngWXm3U4n8yNGEqyEiWEYOVgn",
      "authorship_tag": "ABX9TyNsCenMNwgt3HpUc+LEx8Xh",
      "include_colab_link": true
    },
    "kernelspec": {
      "name": "python3",
      "display_name": "Python 3"
    },
    "language_info": {
      "name": "python"
    }
  },
  "cells": [
    {
      "cell_type": "markdown",
      "metadata": {
        "id": "view-in-github",
        "colab_type": "text"
      },
      "source": [
        "<a href=\"https://colab.research.google.com/github/rasyidabdi/MachineLearningTask/blob/main/1stWeek/1_Decision_Tree_Rasyid_Abdi___1103204127.ipynb\" target=\"_parent\"><img src=\"https://colab.research.google.com/assets/colab-badge.svg\" alt=\"Open In Colab\"/></a>"
      ]
    },
    {
      "cell_type": "code",
      "execution_count": null,
      "metadata": {
        "id": "eOzYGPT4d92x"
      },
      "outputs": [],
      "source": []
    },
    {
      "cell_type": "markdown",
      "source": [
        "Nama : Rasyid Abdi gantoro\n",
        "\n",
        "Nim : 1103204127\n",
        "\n",
        "Dataset : melb_house.csv\n",
        "\n",
        "Overview :\n",
        "\n"
      ],
      "metadata": {
        "id": "13apl3H7eLmS"
      }
    },
    {
      "cell_type": "code",
      "source": [
        "import pandas as pd\n",
        "from sklearn.model_selection import train_test_split\n",
        "from sklearn.tree import DecisionTreeRegressor\n",
        "from sklearn.metrics import mean_squared_error\n",
        "from sklearn.impute import SimpleImputer\n",
        "\n",
        "# Baca data dari file CSV\n",
        "url = \"/content/drive/MyDrive/DATASET/melb_data.csv\"\n",
        "data = pd.read_csv(url)\n",
        "\n",
        "# Pisahkan fitur dan target\n",
        "X = data.drop(['Address', 'Price'], axis=1)   # Fitur (hilangkan 'Address' dan 'Price')\n",
        "y = data['Price'] # Target\n",
        "\n",
        "# Lakukan one-hot encoding pada kolom kategorikal\n",
        "X = pd.get_dummies(X, drop_first=True)\n",
        "\n",
        "# Bagi data menjadi data latih dan data uji\n",
        "X_train, X_test, y_train, y_test = train_test_split(X, y, test_size=0.2, random_state=42)\n",
        "\n",
        "# Imputasi nilai-nilai yang hilang\n",
        "imputer = SimpleImputer(strategy='mean')\n",
        "X_train_imputed = imputer.fit_transform(X_train)\n",
        "X_test_imputed = imputer.transform(X_test)\n",
        "\n",
        "# Buat model Decision Tree\n",
        "model = DecisionTreeRegressor(random_state=42)\n",
        "\n",
        "# Latih model pada data latih yang sudah diimputasi\n",
        "model.fit(X_train_imputed, y_train)\n",
        "\n",
        "# Lakukan prediksi pada data uji yang sudah diimputasi\n",
        "y_pred = model.predict(X_test_imputed)\n",
        "\n",
        "# Evaluasi model\n",
        "mse = mean_squared_error(y_test, y_pred)\n",
        "print(\"Mean Squared Error:\", mse)\n"
      ],
      "metadata": {
        "colab": {
          "base_uri": "https://localhost:8080/"
        },
        "id": "fKLn55VAeTXd",
        "outputId": "d86a5f99-2733-4c72-dd8c-376d35143e4b"
      },
      "execution_count": 2,
      "outputs": [
        {
          "output_type": "stream",
          "name": "stdout",
          "text": [
            "Mean Squared Error: 182785663572.85544\n"
          ]
        }
      ]
    }
  ]
}