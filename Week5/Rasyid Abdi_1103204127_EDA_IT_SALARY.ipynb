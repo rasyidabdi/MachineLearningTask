{
  "nbformat": 4,
  "nbformat_minor": 0,
  "metadata": {
    "colab": {
      "provenance": [],
      "authorship_tag": "ABX9TyO78M15um3kbGwA6V/O9ae/",
      "include_colab_link": true
    },
    "kernelspec": {
      "name": "python3",
      "display_name": "Python 3"
    },
    "language_info": {
      "name": "python"
    }
  },
  "cells": [
    {
      "cell_type": "markdown",
      "metadata": {
        "id": "view-in-github",
        "colab_type": "text"
      },
      "source": [
        "<a href=\"https://colab.research.google.com/github/rasyidabdi/MachineLearningTask/blob/main/Week5/Rasyid%20Abdi_1103204127_EDA_IT_SALARY.ipynb\" target=\"_parent\"><img src=\"https://colab.research.google.com/assets/colab-badge.svg\" alt=\"Open In Colab\"/></a>"
      ]
    },
    {
      "cell_type": "code",
      "execution_count": null,
      "metadata": {
        "id": "swq5yLMOY0jb"
      },
      "outputs": [],
      "source": []
    },
    {
      "cell_type": "markdown",
      "source": [
        "Nama : Rasyid Abdi Gantoro\n",
        "\n",
        "NIM : 1103204127\n",
        "\n",
        "LinkChatGPT:"
      ],
      "metadata": {
        "id": "4qn0ELMRY1SK"
      }
    },
    {
      "cell_type": "code",
      "source": [
        "from google.colab import drive\n",
        "drive.mount('/content/drive')\n"
      ],
      "metadata": {
        "colab": {
          "base_uri": "https://localhost:8080/"
        },
        "id": "1Mo0qeprY3Nt",
        "outputId": "d2c92ddf-c479-40fb-f5b0-1f50e9477f1c"
      },
      "execution_count": 1,
      "outputs": [
        {
          "output_type": "stream",
          "name": "stdout",
          "text": [
            "Mounted at /content/drive\n"
          ]
        }
      ]
    },
    {
      "cell_type": "code",
      "source": [
        "import pandas as pd\n",
        "\n",
        "# Ganti path dengan path yang sesuai di perangkat Anda\n",
        "path = \"/content/drive/MyDrive/DATASET/ITSalarySurveyEU2020.csv\"\n",
        "\n",
        "# Membaca dataset sebagai dataframe\n",
        "df = pd.read_csv(path)\n",
        "\n",
        "# Menampilkan beberapa baris pertama dari dataframe\n",
        "print(df.head())\n"
      ],
      "metadata": {
        "colab": {
          "base_uri": "https://localhost:8080/"
        },
        "id": "JmWn17yGZu2y",
        "outputId": "3a78f09e-d410-4871-8256-67a957a930b6"
      },
      "execution_count": 4,
      "outputs": [
        {
          "output_type": "stream",
          "name": "stdout",
          "text": [
            "             Timestamp   Age Gender    City           Position   \\\n",
            "0  24/11/2020 11:14:15  26.0   Male  Munich   Software Engineer   \n",
            "1  24/11/2020 11:14:16  26.0   Male  Berlin   Backend Developer   \n",
            "2  24/11/2020 11:14:21  29.0   Male  Berlin   Software Engineer   \n",
            "3  24/11/2020 11:15:24  28.0   Male  Berlin  Frontend Developer   \n",
            "4  24/11/2020 11:15:46  37.0   Male  Berlin   Backend Developer   \n",
            "\n",
            "  Total years of experience Years of experience in Germany Seniority level  \\\n",
            "0                         5                              3          Senior   \n",
            "1                         7                              4          Senior   \n",
            "2                        12                              6            Lead   \n",
            "3                         4                              1          Junior   \n",
            "4                        17                              6          Senior   \n",
            "\n",
            "  Your main technology / programming language  \\\n",
            "0                                  TypeScript   \n",
            "1                                        Ruby   \n",
            "2                     Javascript / Typescript   \n",
            "3                                  Javascript   \n",
            "4                                     C# .NET   \n",
            "\n",
            "  Other technologies/programming languages you use often  ...  \\\n",
            "0                    Kotlin, Javascript / Typescript      ...   \n",
            "1                                                NaN      ...   \n",
            "2                    Javascript / Typescript, Docker      ...   \n",
            "3                                                NaN      ...   \n",
            "4                             .NET, SQL, AWS, Docker      ...   \n",
            "\n",
            "   Annual bonus+stocks one year ago. Only answer if staying in same country  \\\n",
            "0                                              10000                          \n",
            "1                                               5000                          \n",
            "2                                             100000                          \n",
            "3                                                NaN                          \n",
            "4                                                NaN                          \n",
            "\n",
            "  Number of vacation days           Employment status   Сontract duration  \\\n",
            "0                      30          Full-time employee  Unlimited contract   \n",
            "1                      28          Full-time employee  Unlimited contract   \n",
            "2                      30  Self-employed (freelancer)  Temporary contract   \n",
            "3                      24          Full-time employee  Unlimited contract   \n",
            "4                      29          Full-time employee  Unlimited contract   \n",
            "\n",
            "  Main language at work Company size Company type  \\\n",
            "0               English       51-100      Product   \n",
            "1               English     101-1000      Product   \n",
            "2               English     101-1000      Product   \n",
            "3               English       51-100      Startup   \n",
            "4               English     101-1000      Product   \n",
            "\n",
            "  Have you lost your job due to the coronavirus outbreak?  \\\n",
            "0                                                 No        \n",
            "1                                                 No        \n",
            "2                                                Yes        \n",
            "3                                                 No        \n",
            "4                                                 No        \n",
            "\n",
            "  Have you been forced to have a shorter working week (Kurzarbeit)? If yes, how many hours per week  \\\n",
            "0                                                NaN                                                  \n",
            "1                                                NaN                                                  \n",
            "2                                                NaN                                                  \n",
            "3                                                NaN                                                  \n",
            "4                                                NaN                                                  \n",
            "\n",
            "  Have you received additional monetary support from your employer due to Work From Home? If yes, how much in 2020 in EUR  \n",
            "0                                                NaN                                                                       \n",
            "1                                                NaN                                                                       \n",
            "2                                                NaN                                                                       \n",
            "3                                                NaN                                                                       \n",
            "4                                                NaN                                                                       \n",
            "\n",
            "[5 rows x 23 columns]\n"
          ]
        }
      ]
    },
    {
      "cell_type": "markdown",
      "source": [
        "prompt : Kode untuk menampilkan informasi ringkas dari dataframe\n"
      ],
      "metadata": {
        "id": "46p_RpwRaivq"
      }
    },
    {
      "cell_type": "code",
      "source": [
        "import pandas as pd\n",
        "\n",
        "# Path ke file CSV\n",
        "file_path = \"/content/drive/MyDrive/DATASET/ITSalarySurveyEU2020.csv\"\n",
        "\n",
        "# Membaca file CSV sebagai DataFrame\n",
        "df = pd.read_csv(file_path)\n",
        "\n",
        "# Menampilkan informasi ringkas dari DataFrame\n",
        "print(df.info())\n"
      ],
      "metadata": {
        "colab": {
          "base_uri": "https://localhost:8080/"
        },
        "id": "I53Ma00-ao1C",
        "outputId": "d52e768d-5c68-44ff-f200-36b495e861f2"
      },
      "execution_count": 6,
      "outputs": [
        {
          "output_type": "stream",
          "name": "stdout",
          "text": [
            "<class 'pandas.core.frame.DataFrame'>\n",
            "RangeIndex: 1253 entries, 0 to 1252\n",
            "Data columns (total 23 columns):\n",
            " #   Column                                                                                                                   Non-Null Count  Dtype  \n",
            "---  ------                                                                                                                   --------------  -----  \n",
            " 0   Timestamp                                                                                                                1253 non-null   object \n",
            " 1   Age                                                                                                                      1226 non-null   float64\n",
            " 2   Gender                                                                                                                   1243 non-null   object \n",
            " 3   City                                                                                                                     1253 non-null   object \n",
            " 4   Position                                                                                                                 1247 non-null   object \n",
            " 5   Total years of experience                                                                                                1237 non-null   object \n",
            " 6   Years of experience in Germany                                                                                           1221 non-null   object \n",
            " 7   Seniority level                                                                                                          1241 non-null   object \n",
            " 8   Your main technology / programming language                                                                              1126 non-null   object \n",
            " 9   Other technologies/programming languages you use often                                                                   1096 non-null   object \n",
            " 10  Yearly brutto salary (without bonus and stocks) in EUR                                                                   1253 non-null   float64\n",
            " 11  Yearly bonus + stocks in EUR                                                                                             829 non-null    object \n",
            " 12  Annual brutto salary (without bonus and stocks) one year ago. Only answer if staying in the same country                 885 non-null    float64\n",
            " 13  Annual bonus+stocks one year ago. Only answer if staying in same country                                                 614 non-null    object \n",
            " 14  Number of vacation days                                                                                                  1185 non-null   object \n",
            " 15  Employment status                                                                                                        1236 non-null   object \n",
            " 16  Сontract duration                                                                                                        1224 non-null   object \n",
            " 17  Main language at work                                                                                                    1237 non-null   object \n",
            " 18  Company size                                                                                                             1235 non-null   object \n",
            " 19  Company type                                                                                                             1228 non-null   object \n",
            " 20  Have you lost your job due to the coronavirus outbreak?                                                                  1233 non-null   object \n",
            " 21  Have you been forced to have a shorter working week (Kurzarbeit)? If yes, how many hours per week                        373 non-null    float64\n",
            " 22  Have you received additional monetary support from your employer due to Work From Home? If yes, how much in 2020 in EUR  462 non-null    object \n",
            "dtypes: float64(4), object(19)\n",
            "memory usage: 225.3+ KB\n",
            "None\n"
          ]
        }
      ]
    },
    {
      "cell_type": "markdown",
      "source": [
        "Prompt : Berikan petunjuk untuk melakukan Exploratory Data Analysis\n",
        "\n",
        "Tentu, berikut adalah panduan umum untuk melakukan Exploratory Data Analysis (EDA) dengan menggunakan Python dan pustaka-pustaka seperti Pandas, Matplotlib, dan Seaborn:\n",
        "\n",
        "1. **Memahami Data**: Mulailah dengan memahami dataset Anda. Identifikasi jumlah kolom, tipe data, serta apa yang masing-masing kolom representasikan.\n",
        "\n",
        "2. **Menampilkan Data**: Tampilkan beberapa baris pertama dari dataset Anda untuk mendapatkan gambaran awal tentang struktur dan formatnya. Anda dapat menggunakan `head()` untuk menampilkan beberapa baris pertama dari DataFrame.\n",
        "\n",
        "3. **Handling Missing Values**: Periksa apakah ada nilai yang hilang (missing values) dalam dataset Anda. Jika ada, pertimbangkan cara untuk menangani missing values tersebut, apakah dengan menghapus baris atau kolom yang memiliki missing values, atau dengan mengisi nilai yang hilang dengan nilai yang sesuai.\n",
        "\n",
        "4. **Statistik Deskriptif**: Hitung statistik deskriptif seperti mean, median, kuartil, dan deviasi standar untuk kolom-kolom numerik dalam dataset Anda. Ini dapat memberikan pemahaman awal tentang distribusi data.\n",
        "\n",
        "5. **Visualisasi Data**: Gunakan visualisasi data untuk memahami lebih lanjut tentang distribusi dan hubungan antar variabel dalam dataset Anda. Beberapa jenis plot yang berguna termasuk histogram, box plot, scatter plot, dan heatmap. Anda dapat menggunakan pustaka Matplotlib, Seaborn, atau Pandas untuk membuat visualisasi data.\n",
        "\n",
        "6. **Menemukan Korelasi**: Identifikasi korelasi antar variabel dalam dataset Anda. Anda dapat menggunakan heatmap untuk menampilkan korelasi antar variabel numerik, atau menggunakan scatter plot untuk melihat korelasi antara dua variabel numerik.\n",
        "\n",
        "7. **Eksplorasi Variabel Kategorikal**: Jika dataset Anda juga memiliki variabel kategorikal, Anda dapat melakukan analisis lebih lanjut terhadap variabel ini, seperti menghitung frekuensi masing-masing kategori dan membuat visualisasi yang sesuai.\n",
        "\n",
        "8. **Menemukan Insight**: Gunakan hasil dari langkah-langkah sebelumnya untuk menemukan insight dan pola menarik dalam data Anda. Ini dapat membantu Anda merumuskan pertanyaan atau hipotesis yang lebih dalam untuk dijelajahi.\n",
        "\n",
        "9. **Validasi Hipotesis**: Jika Anda memiliki hipotesis tentang data Anda, gunakan EDA untuk memvalidasi atau menolak hipotesis tersebut.\n",
        "\n",
        "10. **Dokumentasi**: Terakhir, pastikan untuk mendokumentasikan langkah-langkah EDA Anda dan hasil yang Anda temukan. Ini akan berguna untuk membagikan temuan Anda kepada orang lain dan untuk referensi di masa mendatang.\n",
        "\n",
        "Dengan mengikuti langkah-langkah di atas, Anda dapat melakukan EDA yang komprehensif untuk memahami dan mengeksplorasi dataset Anda."
      ],
      "metadata": {
        "id": "niKAwpTYa1SH"
      }
    },
    {
      "cell_type": "markdown",
      "source": [
        "Prompt : Berikan kode untuk mendapatkan summary statistical dari dataframe"
      ],
      "metadata": {
        "id": "CE552wYXbQou"
      }
    },
    {
      "cell_type": "code",
      "source": [
        "import pandas as pd\n",
        "\n",
        "# Path ke file CSV\n",
        "file_path = \"/content/drive/MyDrive/DATASET/ITSalarySurveyEU2020.csv\"\n",
        "\n",
        "# Membaca file CSV sebagai DataFrame\n",
        "df = pd.read_csv(file_path)\n",
        "\n",
        "# Mendapatkan summary statistics dari kolom-kolom numerik dalam DataFrame\n",
        "summary_statistics = df.describe()\n",
        "\n",
        "# Menampilkan summary statistics\n",
        "print(summary_statistics)\n"
      ],
      "metadata": {
        "colab": {
          "base_uri": "https://localhost:8080/"
        },
        "id": "OqhexMHUbab9",
        "outputId": "81868c86-13af-4eec-fe7a-552f1a2dd314"
      },
      "execution_count": 7,
      "outputs": [
        {
          "output_type": "stream",
          "name": "stdout",
          "text": [
            "               Age  Yearly brutto salary (without bonus and stocks) in EUR  \\\n",
            "count  1226.000000                                       1.253000e+03        \n",
            "mean     32.509788                                       8.027904e+07        \n",
            "std       5.663804                                       2.825061e+09        \n",
            "min      20.000000                                       1.000100e+04        \n",
            "25%      29.000000                                       5.880000e+04        \n",
            "50%      32.000000                                       7.000000e+04        \n",
            "75%      35.000000                                       8.000000e+04        \n",
            "max      69.000000                                       1.000000e+11        \n",
            "\n",
            "       Annual brutto salary (without bonus and stocks) one year ago. Only answer if staying in the same country  \\\n",
            "count                                       8.850000e+02                                                          \n",
            "mean                                        6.322459e+05                                                          \n",
            "std                                         1.680508e+07                                                          \n",
            "min                                         1.100000e+04                                                          \n",
            "25%                                         5.500000e+04                                                          \n",
            "50%                                         6.500000e+04                                                          \n",
            "75%                                         7.500000e+04                                                          \n",
            "max                                         5.000000e+08                                                          \n",
            "\n",
            "       Have you been forced to have a shorter working week (Kurzarbeit)? If yes, how many hours per week  \n",
            "count                                         373.000000                                                  \n",
            "mean                                           12.967828                                                  \n",
            "std                                            15.275174                                                  \n",
            "min                                             0.000000                                                  \n",
            "25%                                             0.000000                                                  \n",
            "50%                                             0.000000                                                  \n",
            "75%                                            30.000000                                                  \n",
            "max                                            40.000000                                                  \n"
          ]
        }
      ]
    },
    {
      "cell_type": "markdown",
      "source": [
        "Prompt : Berikan kode untuk melihat 5 baris teratas dari fitur-fitur tertentu beikut: \"Total years of experience\", \"Years of experience in Germany\", \"Yearly bonus + stocks in EUR\", \"Annual bonus+stocks one year ago. Only answer if staying in same country\", \"Number of vacation days\", \"Сontract duration\", \"Company size\""
      ],
      "metadata": {
        "id": "uKiQkZY9bi9h"
      }
    },
    {
      "cell_type": "code",
      "source": [
        "import pandas as pd\n",
        "\n",
        "# Path ke file CSV\n",
        "file_path = \"/content/drive/MyDrive/DATASET/ITSalarySurveyEU2020.csv\"\n",
        "\n",
        "# Membaca file CSV sebagai DataFrame\n",
        "df = pd.read_csv(file_path)\n",
        "\n",
        "# Fitur-fitur yang ingin ditampilkan\n",
        "selected_features = [\"Total years of experience\",\n",
        "                     \"Years of experience in Germany\",\n",
        "                     \"Yearly bonus + stocks in EUR\",\n",
        "                     \"Annual bonus+stocks one year ago. Only answer if staying in same country\",\n",
        "                     \"Number of vacation days\",\n",
        "                     \"Сontract duration\",\n",
        "                     \"Company size\"]\n",
        "\n",
        "# Melihat 5 baris teratas dari fitur-fitur tertentu\n",
        "selected_df = df[selected_features]\n",
        "print(selected_df.head())\n"
      ],
      "metadata": {
        "colab": {
          "base_uri": "https://localhost:8080/"
        },
        "id": "8P-JY8qcbqt2",
        "outputId": "0f6aa0b5-686c-4828-98ff-761bf9a7c9c6"
      },
      "execution_count": 8,
      "outputs": [
        {
          "output_type": "stream",
          "name": "stdout",
          "text": [
            "  Total years of experience Years of experience in Germany  \\\n",
            "0                         5                              3   \n",
            "1                         7                              4   \n",
            "2                        12                              6   \n",
            "3                         4                              1   \n",
            "4                        17                              6   \n",
            "\n",
            "  Yearly bonus + stocks in EUR  \\\n",
            "0                         5000   \n",
            "1                          NaN   \n",
            "2                       120000   \n",
            "3                          NaN   \n",
            "4                          NaN   \n",
            "\n",
            "  Annual bonus+stocks one year ago. Only answer if staying in same country  \\\n",
            "0                                              10000                         \n",
            "1                                               5000                         \n",
            "2                                             100000                         \n",
            "3                                                NaN                         \n",
            "4                                                NaN                         \n",
            "\n",
            "  Number of vacation days   Сontract duration Company size  \n",
            "0                      30  Unlimited contract       51-100  \n",
            "1                      28  Unlimited contract     101-1000  \n",
            "2                      30  Temporary contract     101-1000  \n",
            "3                      24  Unlimited contract       51-100  \n",
            "4                      29  Unlimited contract     101-1000  \n"
          ]
        }
      ]
    },
    {
      "cell_type": "markdown",
      "source": [
        "Prompt :  Beri kode untuk mengubah fitur-fitur tertentu berikut: \"Total years of experience\", \"Years of experience in Germany\", \"Yearly bonus + stocks in EUR\", \"Annual bonus+stocks one year ago. Only answer if staying in same country\", \"Number of vacation days\", \"Сontract duration\", \"Company size\", bertipe data numerik"
      ],
      "metadata": {
        "id": "iTvwTWBFbxYW"
      }
    },
    {
      "cell_type": "code",
      "source": [
        "import pandas as pd\n",
        "\n",
        "# Path ke file CSV\n",
        "file_path = \"/content/drive/MyDrive/DATASET/ITSalarySurveyEU2020.csv\"\n",
        "\n",
        "# Membaca file CSV sebagai DataFrame\n",
        "df = pd.read_csv(file_path)\n",
        "\n",
        "# Fitur-fitur yang ingin diubah tipe datanya menjadi numerik\n",
        "numeric_features = [\"Total years of experience\",\n",
        "                    \"Years of experience in Germany\",\n",
        "                    \"Yearly bonus + stocks in EUR\",\n",
        "                    \"Annual bonus+stocks one year ago. Only answer if staying in same country\",\n",
        "                    \"Number of vacation days\",\n",
        "                    \"Сontract duration\",\n",
        "                    \"Company size\"]\n",
        "\n",
        "# Mengubah tipe data kolom-kolom tertentu menjadi tipe data numerik\n",
        "df[numeric_features] = df[numeric_features].apply(pd.to_numeric, errors='coerce')\n",
        "\n",
        "# Menampilkan informasi tipe data setelah perubahan\n",
        "print(df.dtypes)\n"
      ],
      "metadata": {
        "colab": {
          "base_uri": "https://localhost:8080/"
        },
        "id": "9ai3i12sb32b",
        "outputId": "cfe1ddc9-2ab0-4077-b2cd-305af6528b95"
      },
      "execution_count": 9,
      "outputs": [
        {
          "output_type": "stream",
          "name": "stdout",
          "text": [
            "Timestamp                                                                                                                   object\n",
            "Age                                                                                                                        float64\n",
            "Gender                                                                                                                      object\n",
            "City                                                                                                                        object\n",
            "Position                                                                                                                    object\n",
            "Total years of experience                                                                                                  float64\n",
            "Years of experience in Germany                                                                                             float64\n",
            "Seniority level                                                                                                             object\n",
            "Your main technology / programming language                                                                                 object\n",
            "Other technologies/programming languages you use often                                                                      object\n",
            "Yearly brutto salary (without bonus and stocks) in EUR                                                                     float64\n",
            "Yearly bonus + stocks in EUR                                                                                               float64\n",
            "Annual brutto salary (without bonus and stocks) one year ago. Only answer if staying in the same country                   float64\n",
            "Annual bonus+stocks one year ago. Only answer if staying in same country                                                   float64\n",
            "Number of vacation days                                                                                                    float64\n",
            "Employment status                                                                                                           object\n",
            "Сontract duration                                                                                                          float64\n",
            "Main language at work                                                                                                       object\n",
            "Company size                                                                                                               float64\n",
            "Company type                                                                                                                object\n",
            "Have you lost your job due to the coronavirus outbreak?                                                                     object\n",
            "Have you been forced to have a shorter working week (Kurzarbeit)? If yes, how many hours per week                          float64\n",
            "Have you received additional monetary support from your employer due to Work From Home? If yes, how much in 2020 in EUR     object\n",
            "dtype: object\n"
          ]
        }
      ]
    },
    {
      "cell_type": "markdown",
      "source": [
        "Prompt : Berikan kode untuk menampilkan baris yang memiliki null value"
      ],
      "metadata": {
        "id": "r1m_V2SAb-W_"
      }
    },
    {
      "cell_type": "code",
      "source": [
        "import pandas as pd\n",
        "\n",
        "# Path ke file CSV\n",
        "file_path = \"/content/drive/MyDrive/DATASET/ITSalarySurveyEU2020.csv\"\n",
        "\n",
        "# Membaca file CSV sebagai DataFrame\n",
        "df = pd.read_csv(file_path)\n",
        "\n",
        "# Menampilkan baris yang memiliki nilai null\n",
        "rows_with_null = df[df.isnull().any(axis=1)]\n",
        "\n",
        "# Menampilkan baris-baris yang memiliki nilai null\n",
        "print(rows_with_null)\n"
      ],
      "metadata": {
        "colab": {
          "base_uri": "https://localhost:8080/"
        },
        "id": "4HoXxvNhcDmF",
        "outputId": "fdcc753c-eee8-4b9a-b6a1-0b6b9c51793f"
      },
      "execution_count": 10,
      "outputs": [
        {
          "output_type": "stream",
          "name": "stdout",
          "text": [
            "                Timestamp   Age Gender         City  \\\n",
            "0     24/11/2020 11:14:15  26.0   Male       Munich   \n",
            "1     24/11/2020 11:14:16  26.0   Male       Berlin   \n",
            "2     24/11/2020 11:14:21  29.0   Male       Berlin   \n",
            "3     24/11/2020 11:15:24  28.0   Male       Berlin   \n",
            "4     24/11/2020 11:15:46  37.0   Male       Berlin   \n",
            "...                   ...   ...    ...          ...   \n",
            "1247  18/01/2021 11:50:02  34.0   Male       Zurich   \n",
            "1248  18/01/2021 15:05:50  31.0   Male       Berlin   \n",
            "1249  18/01/2021 17:46:02  33.0   Male       Berlin   \n",
            "1250  18/01/2021 23:20:35  39.0   Male       Munich   \n",
            "1251  19/01/2021 10:17:58  26.0   Male  Saarbrücken   \n",
            "\n",
            "                                   Position  Total years of experience  \\\n",
            "0                          Software Engineer                         5   \n",
            "1                          Backend Developer                         7   \n",
            "2                          Software Engineer                        12   \n",
            "3                         Frontend Developer                         4   \n",
            "4                          Backend Developer                        17   \n",
            "...                                      ...                       ...   \n",
            "1247                       Software Engineer                         7   \n",
            "1248                       Backend Developer                         9   \n",
            "1249  Researcher/ Consumer Insights Analyst                         10   \n",
            "1250                   IT Operations Manager                        15   \n",
            "1251                      Frontend Developer                         7   \n",
            "\n",
            "     Years of experience in Germany Seniority level  \\\n",
            "0                                 3          Senior   \n",
            "1                                 4          Senior   \n",
            "2                                 6            Lead   \n",
            "3                                 1          Junior   \n",
            "4                                 6          Senior   \n",
            "...                             ...             ...   \n",
            "1247                              2          Senior   \n",
            "1248                              5          Senior   \n",
            "1249                            1.5          Senior   \n",
            "1250                              2            Lead   \n",
            "1251                              7          Middle   \n",
            "\n",
            "     Your main technology / programming language  \\\n",
            "0                                     TypeScript   \n",
            "1                                           Ruby   \n",
            "2                        Javascript / Typescript   \n",
            "3                                     Javascript   \n",
            "4                                        C# .NET   \n",
            "...                                          ...   \n",
            "1247                                         PHP   \n",
            "1248                                        Java   \n",
            "1249                           consumer analysis   \n",
            "1250                                         PHP   \n",
            "1251                                  JavaScript   \n",
            "\n",
            "     Other technologies/programming languages you use often  ...  \\\n",
            "0                       Kotlin, Javascript / Typescript      ...   \n",
            "1                                                   NaN      ...   \n",
            "2                       Javascript / Typescript, Docker      ...   \n",
            "3                                                   NaN      ...   \n",
            "4                                .NET, SQL, AWS, Docker      ...   \n",
            "...                                                 ...      ...   \n",
            "1247                                                PHP      ...   \n",
            "1248  Python, Javascript / Typescript, Java / Scala,...      ...   \n",
            "1249                                                NaN      ...   \n",
            "1250  Python, C/C++, Javascript / Typescript, Java /...      ...   \n",
            "1251  Javascript / Typescript, Docker, HTML, CSS; Ad...      ...   \n",
            "\n",
            "      Annual bonus+stocks one year ago. Only answer if staying in same country  \\\n",
            "0                                                 10000                          \n",
            "1                                                  5000                          \n",
            "2                                                100000                          \n",
            "3                                                   NaN                          \n",
            "4                                                   NaN                          \n",
            "...                                                 ...                          \n",
            "1247                                                NaN                          \n",
            "1248                                              72000                          \n",
            "1249                                               2500                          \n",
            "1250                                                NaN                          \n",
            "1251                                              36400                          \n",
            "\n",
            "     Number of vacation days           Employment status   Сontract duration  \\\n",
            "0                         30          Full-time employee  Unlimited contract   \n",
            "1                         28          Full-time employee  Unlimited contract   \n",
            "2                         30  Self-employed (freelancer)  Temporary contract   \n",
            "3                         24          Full-time employee  Unlimited contract   \n",
            "4                         29          Full-time employee  Unlimited contract   \n",
            "...                      ...                         ...                 ...   \n",
            "1247                      25          Full-time employee  Unlimited contract   \n",
            "1248                      26          Full-time employee  Unlimited contract   \n",
            "1249              unlimited           Full-time employee  Unlimited contract   \n",
            "1250                      28          Full-time employee  Unlimited contract   \n",
            "1251                      27          Full-time employee  Unlimited contract   \n",
            "\n",
            "     Main language at work Company size Company type  \\\n",
            "0                  English       51-100      Product   \n",
            "1                  English     101-1000      Product   \n",
            "2                  English     101-1000      Product   \n",
            "3                  English       51-100      Startup   \n",
            "4                  English     101-1000      Product   \n",
            "...                    ...          ...          ...   \n",
            "1247               English        11-50      Startup   \n",
            "1248               English       51-100      Product   \n",
            "1249               English        1000+      Product   \n",
            "1250               English     101-1000    eCommerce   \n",
            "1251                German     101-1000      Product   \n",
            "\n",
            "     Have you lost your job due to the coronavirus outbreak?  \\\n",
            "0                                                    No        \n",
            "1                                                    No        \n",
            "2                                                   Yes        \n",
            "3                                                    No        \n",
            "4                                                    No        \n",
            "...                                                 ...        \n",
            "1247                                                 No        \n",
            "1248                                                Yes        \n",
            "1249                                                 No        \n",
            "1250                                                 No        \n",
            "1251                                                 No        \n",
            "\n",
            "     Have you been forced to have a shorter working week (Kurzarbeit)? If yes, how many hours per week  \\\n",
            "0                                                   NaN                                                  \n",
            "1                                                   NaN                                                  \n",
            "2                                                   NaN                                                  \n",
            "3                                                   NaN                                                  \n",
            "4                                                   NaN                                                  \n",
            "...                                                 ...                                                  \n",
            "1247                                                NaN                                                  \n",
            "1248                                                NaN                                                  \n",
            "1249                                                NaN                                                  \n",
            "1250                                                NaN                                                  \n",
            "1251                                                NaN                                                  \n",
            "\n",
            "     Have you received additional monetary support from your employer due to Work From Home? If yes, how much in 2020 in EUR  \n",
            "0                                                   NaN                                                                       \n",
            "1                                                   NaN                                                                       \n",
            "2                                                   NaN                                                                       \n",
            "3                                                   NaN                                                                       \n",
            "4                                                   NaN                                                                       \n",
            "...                                                 ...                                                                       \n",
            "1247                                                NaN                                                                       \n",
            "1248                                                NaN                                                                       \n",
            "1249                                                  0                                                                       \n",
            "1250                                                NaN                                                                       \n",
            "1251                                                  0                                                                       \n",
            "\n",
            "[1109 rows x 23 columns]\n"
          ]
        }
      ]
    },
    {
      "cell_type": "markdown",
      "source": [
        "Prompt :  Beri kode untuk mengisi baris dari feature \"Have you been forced to have a shorter working week (Kurzarbeit)? If yes, how many hours per week\" yang memiliki null value dengan nilai \"0\""
      ],
      "metadata": {
        "id": "w06F1H6XcLfC"
      }
    },
    {
      "cell_type": "code",
      "source": [
        "import pandas as pd\n",
        "\n",
        "# Path ke file CSV\n",
        "file_path = \"/content/drive/MyDrive/DATASET/ITSalarySurveyEU2020.csv\"\n",
        "\n",
        "# Membaca file CSV sebagai DataFrame\n",
        "df = pd.read_csv(file_path)\n",
        "\n",
        "# Mengisi nilai null dengan \"0\" pada kolom tertentu\n",
        "column_to_fill = \"Have you been forced to have a shorter working week (Kurzarbeit)? If yes, how many hours per week\"\n",
        "df[column_to_fill].fillna(0, inplace=True)\n",
        "\n",
        "# Menampilkan DataFrame setelah pengisian nilai null\n",
        "print(df)\n"
      ],
      "metadata": {
        "colab": {
          "base_uri": "https://localhost:8080/"
        },
        "id": "KGL5FfT_cQRs",
        "outputId": "5f97b1c7-8968-44ff-de3b-05745222b79d"
      },
      "execution_count": 11,
      "outputs": [
        {
          "output_type": "stream",
          "name": "stdout",
          "text": [
            "                Timestamp   Age Gender         City  \\\n",
            "0     24/11/2020 11:14:15  26.0   Male       Munich   \n",
            "1     24/11/2020 11:14:16  26.0   Male       Berlin   \n",
            "2     24/11/2020 11:14:21  29.0   Male       Berlin   \n",
            "3     24/11/2020 11:15:24  28.0   Male       Berlin   \n",
            "4     24/11/2020 11:15:46  37.0   Male       Berlin   \n",
            "...                   ...   ...    ...          ...   \n",
            "1248  18/01/2021 15:05:50  31.0   Male       Berlin   \n",
            "1249  18/01/2021 17:46:02  33.0   Male       Berlin   \n",
            "1250  18/01/2021 23:20:35  39.0   Male       Munich   \n",
            "1251  19/01/2021 10:17:58  26.0   Male  Saarbrücken   \n",
            "1252  19/01/2021 12:01:11  26.0   Male       Berlin   \n",
            "\n",
            "                                   Position  Total years of experience  \\\n",
            "0                          Software Engineer                         5   \n",
            "1                          Backend Developer                         7   \n",
            "2                          Software Engineer                        12   \n",
            "3                         Frontend Developer                         4   \n",
            "4                          Backend Developer                        17   \n",
            "...                                      ...                       ...   \n",
            "1248                       Backend Developer                         9   \n",
            "1249  Researcher/ Consumer Insights Analyst                         10   \n",
            "1250                   IT Operations Manager                        15   \n",
            "1251                      Frontend Developer                         7   \n",
            "1252                                  DevOps                         2   \n",
            "\n",
            "     Years of experience in Germany Seniority level  \\\n",
            "0                                 3          Senior   \n",
            "1                                 4          Senior   \n",
            "2                                 6            Lead   \n",
            "3                                 1          Junior   \n",
            "4                                 6          Senior   \n",
            "...                             ...             ...   \n",
            "1248                              5          Senior   \n",
            "1249                            1.5          Senior   \n",
            "1250                              2            Lead   \n",
            "1251                              7          Middle   \n",
            "1252                              2          Middle   \n",
            "\n",
            "     Your main technology / programming language  \\\n",
            "0                                     TypeScript   \n",
            "1                                           Ruby   \n",
            "2                        Javascript / Typescript   \n",
            "3                                     Javascript   \n",
            "4                                        C# .NET   \n",
            "...                                          ...   \n",
            "1248                                        Java   \n",
            "1249                           consumer analysis   \n",
            "1250                                         PHP   \n",
            "1251                                  JavaScript   \n",
            "1252                                        yaml   \n",
            "\n",
            "     Other technologies/programming languages you use often  ...  \\\n",
            "0                       Kotlin, Javascript / Typescript      ...   \n",
            "1                                                   NaN      ...   \n",
            "2                       Javascript / Typescript, Docker      ...   \n",
            "3                                                   NaN      ...   \n",
            "4                                .NET, SQL, AWS, Docker      ...   \n",
            "...                                                 ...      ...   \n",
            "1248  Python, Javascript / Typescript, Java / Scala,...      ...   \n",
            "1249                                                NaN      ...   \n",
            "1250  Python, C/C++, Javascript / Typescript, Java /...      ...   \n",
            "1251  Javascript / Typescript, Docker, HTML, CSS; Ad...      ...   \n",
            "1252  Python, AWS, Kubernetes, Docker, terraform, an...      ...   \n",
            "\n",
            "      Annual bonus+stocks one year ago. Only answer if staying in same country  \\\n",
            "0                                                 10000                          \n",
            "1                                                  5000                          \n",
            "2                                                100000                          \n",
            "3                                                   NaN                          \n",
            "4                                                   NaN                          \n",
            "...                                                 ...                          \n",
            "1248                                              72000                          \n",
            "1249                                               2500                          \n",
            "1250                                                NaN                          \n",
            "1251                                              36400                          \n",
            "1252                                                  0                          \n",
            "\n",
            "     Number of vacation days           Employment status   Сontract duration  \\\n",
            "0                         30          Full-time employee  Unlimited contract   \n",
            "1                         28          Full-time employee  Unlimited contract   \n",
            "2                         30  Self-employed (freelancer)  Temporary contract   \n",
            "3                         24          Full-time employee  Unlimited contract   \n",
            "4                         29          Full-time employee  Unlimited contract   \n",
            "...                      ...                         ...                 ...   \n",
            "1248                      26          Full-time employee  Unlimited contract   \n",
            "1249              unlimited           Full-time employee  Unlimited contract   \n",
            "1250                      28          Full-time employee  Unlimited contract   \n",
            "1251                      27          Full-time employee  Unlimited contract   \n",
            "1252                      30          Full-time employee  Unlimited contract   \n",
            "\n",
            "     Main language at work Company size Company type  \\\n",
            "0                  English       51-100      Product   \n",
            "1                  English     101-1000      Product   \n",
            "2                  English     101-1000      Product   \n",
            "3                  English       51-100      Startup   \n",
            "4                  English     101-1000      Product   \n",
            "...                    ...          ...          ...   \n",
            "1248               English       51-100      Product   \n",
            "1249               English        1000+      Product   \n",
            "1250               English     101-1000    eCommerce   \n",
            "1251                German     101-1000      Product   \n",
            "1252               English       51-100      Startup   \n",
            "\n",
            "     Have you lost your job due to the coronavirus outbreak?  \\\n",
            "0                                                    No        \n",
            "1                                                    No        \n",
            "2                                                   Yes        \n",
            "3                                                    No        \n",
            "4                                                    No        \n",
            "...                                                 ...        \n",
            "1248                                                Yes        \n",
            "1249                                                 No        \n",
            "1250                                                 No        \n",
            "1251                                                 No        \n",
            "1252                                                 No        \n",
            "\n",
            "     Have you been forced to have a shorter working week (Kurzarbeit)? If yes, how many hours per week  \\\n",
            "0                                                   0.0                                                  \n",
            "1                                                   0.0                                                  \n",
            "2                                                   0.0                                                  \n",
            "3                                                   0.0                                                  \n",
            "4                                                   0.0                                                  \n",
            "...                                                 ...                                                  \n",
            "1248                                                0.0                                                  \n",
            "1249                                                0.0                                                  \n",
            "1250                                                0.0                                                  \n",
            "1251                                                0.0                                                  \n",
            "1252                                               30.0                                                  \n",
            "\n",
            "     Have you received additional monetary support from your employer due to Work From Home? If yes, how much in 2020 in EUR  \n",
            "0                                                   NaN                                                                       \n",
            "1                                                   NaN                                                                       \n",
            "2                                                   NaN                                                                       \n",
            "3                                                   NaN                                                                       \n",
            "4                                                   NaN                                                                       \n",
            "...                                                 ...                                                                       \n",
            "1248                                                NaN                                                                       \n",
            "1249                                                  0                                                                       \n",
            "1250                                                NaN                                                                       \n",
            "1251                                                  0                                                                       \n",
            "1252                                                600                                                                       \n",
            "\n",
            "[1253 rows x 23 columns]\n"
          ]
        }
      ]
    },
    {
      "cell_type": "code",
      "source": [
        "import matplotlib.pyplot as plt\n",
        "\n",
        "# Membuat rentang umur dengan jarak 10 tahun\n",
        "bins = [20, 30, 40, 50, 60, 70]\n",
        "labels = ['20-29', '30-39', '40-49', '50-59', '60-69']\n",
        "\n",
        "\n",
        "# Menambahkan kolom baru 'Age Range' dengan rentang umur yang sesuai\n",
        "df['Age Range'] = pd.cut(df['Age'], bins=bins, labels=labels, right=False)\n",
        "\n",
        "# Menghitung jumlah observasi untuk setiap rentang umur\n",
        "age_range_counts = df['Age Range'].value_counts()\n",
        "\n",
        "# Plotting diagram pie\n",
        "plt.figure(figsize=(8, 8))\n",
        "plt.pie(age_range_counts, labels=age_range_counts.index, autopct='%1.1f%%', startangle=140)\n",
        "plt.title('Distribusi Rentang Umur')\n",
        "plt.axis('equal')  # Membuat lingkaran menjadi bentuk lingkaran\n",
        "plt.show()"
      ],
      "metadata": {
        "colab": {
          "base_uri": "https://localhost:8080/",
          "height": 675
        },
        "id": "TFVcj5UMci_r",
        "outputId": "58b4e750-d392-4c53-ab44-8948e1f70f79"
      },
      "execution_count": 12,
      "outputs": [
        {
          "output_type": "display_data",
          "data": {
            "text/plain": [
              "<Figure size 800x800 with 1 Axes>"
            ],
            "image/png": "[encoded data removed]"
          },
          "metadata": {}
        }
      ]
    },
    {
      "cell_type": "markdown",
      "source": [
        "Prompt : Berikan\n",
        " kode untuk menampilkan baris data yang memiliki Age 60+"
      ],
      "metadata": {
        "id": "yZAnNpvLcul0"
      }
    },
    {
      "cell_type": "code",
      "source": [
        "# Memilih baris data dengan usia 60+\n",
        "age_60_plus = df[df['Age'] >= 60]\n",
        "\n",
        "# Menampilkan baris data yang memiliki usia 60+\n",
        "print(age_60_plus)"
      ],
      "metadata": {
        "colab": {
          "base_uri": "https://localhost:8080/"
        },
        "id": "OH_WnxPPcxw9",
        "outputId": "ad7fec70-5b2f-4974-a308-ab3092174ee2"
      },
      "execution_count": 14,
      "outputs": [
        {
          "output_type": "stream",
          "name": "stdout",
          "text": [
            "                Timestamp   Age Gender       City          Position   \\\n",
            "59    24/11/2020 11:33:51  66.0   Male     Munich  Software Engineer   \n",
            "296   24/11/2020 15:39:13  65.0   Male     Berlin  Software Engineer   \n",
            "1103  06/12/2020 21:51:21  69.0   Male  Stuttgart            Rentner   \n",
            "\n",
            "     Total years of experience Years of experience in Germany Seniority level  \\\n",
            "59                          40                              4            Lead   \n",
            "296                         25                             25          Senior   \n",
            "1103                       383                              3            Head   \n",
            "\n",
            "     Your main technology / programming language  \\\n",
            "59                                 ruby on rails   \n",
            "296                           Pascal, VB.NET, C#   \n",
            "1103                                         NaN   \n",
            "\n",
            "     Other technologies/programming languages you use often  ...  \\\n",
            "59                   Javascript / Typescript, Ruby, SQL      ...   \n",
            "296                                           .NET, SQL      ...   \n",
            "1103                                                NaN      ...   \n",
            "\n",
            "      Annual bonus+stocks one year ago. Only answer if staying in same country  \\\n",
            "59                                                  NaN                          \n",
            "296                                                 NaN                          \n",
            "1103                                                NaN                          \n",
            "\n",
            "     Number of vacation days   Employment status   Сontract duration  \\\n",
            "59                        30  Full-time employee  Unlimited contract   \n",
            "296                       30  Full-time employee  Unlimited contract   \n",
            "1103                     NaN                 NaN                 NaN   \n",
            "\n",
            "     Main language at work Company size         Company type  \\\n",
            "59                  German       51-100              Product   \n",
            "296                 German       51-100              Product   \n",
            "1103                German        11-50  Consulting / Agency   \n",
            "\n",
            "     Have you lost your job due to the coronavirus outbreak?  \\\n",
            "59                                                   No        \n",
            "296                                                  No        \n",
            "1103                                                 No        \n",
            "\n",
            "     Have you been forced to have a shorter working week (Kurzarbeit)? If yes, how many hours per week  \\\n",
            "59                                                  0.0                                                  \n",
            "296                                                 NaN                                                  \n",
            "1103                                                NaN                                                  \n",
            "\n",
            "     Have you received additional monetary support from your employer due to Work From Home? If yes, how much in 2020 in EUR  \n",
            "59                                                  NaN                                                                       \n",
            "296                                                 NaN                                                                       \n",
            "1103                                                NaN                                                                       \n",
            "\n",
            "[3 rows x 23 columns]\n"
          ]
        }
      ]
    },
    {
      "cell_type": "markdown",
      "source": [
        "Prompt :  Berikan kode untuk membandingkan Total fitur Total experience dengan Age dalam rentang umur yang tadi"
      ],
      "metadata": {
        "id": "r9Y_vbKmdCQ2"
      }
    },
    {
      "cell_type": "code",
      "source": [
        "#Membuat rentang umur dengan jarak 10 tahun\n",
        "bins = [20, 30, 40, 50, 60, 70]\n",
        "labels = ['20-29', '30-39', '40-49', '50-59', '60-69']\n",
        "\n",
        "# Menambahkan kolom baru 'Age Range' dengan rentang umur yang sesuai\n",
        "df['Age Range'] = pd.cut(df['Age'], bins=bins, labels=labels, right=False)\n",
        "\n",
        "# Plotting scatter plot untuk membandingkan Total years of experience dengan Age dalam rentang umur yang telah ditentukan\n",
        "plt.figure(figsize=(10, 6))\n",
        "for age_range in labels:\n",
        "    plt.scatter(df[df['Age Range'] == age_range]['Total years of experience'], df[df['Age Range'] == age_range]['Age'], label=age_range)\n",
        "\n",
        "plt.xlabel('Total years of experience')\n",
        "plt.ylabel('Age')\n",
        "plt.title('Perbandingan Total years of experience dan Age dalam Rentang Umur')\n",
        "plt.legend()\n",
        "plt.grid(True)\n",
        "plt.show()\n"
      ],
      "metadata": {
        "colab": {
          "base_uri": "https://localhost:8080/",
          "height": 1000
        },
        "id": "GkOLOGzCdFR0",
        "outputId": "e9823a22-0315-419e-85fd-51b29761b3f8"
      },
      "execution_count": 25,
      "outputs": [
        {
          "output_type": "error",
          "ename": "ConversionError",
          "evalue": "Failed to convert value(s) to axis units: 4       17\n5        5\n6        6\n9       15\n10       2\n        ..\n1246    18\n1247     7\n1248     9\n1249    10\n1250    15\nName: Total years of experience, Length: 721, dtype: object",
          "traceback": [
            "\u001b[0;31m---------------------------------------------------------------------------\u001b[0m",
            "\u001b[0;31mTypeError\u001b[0m                                 Traceback (most recent call last)",
            "\u001b[0;32m/usr/local/lib/python3.10/dist-packages/matplotlib/axis.py\u001b[0m in \u001b[0;36mconvert_units\u001b[0;34m(self, x)\u001b[0m\n\u001b[1;32m   1731\u001b[0m         \u001b[0;32mtry\u001b[0m\u001b[0;34m:\u001b[0m\u001b[0;34m\u001b[0m\u001b[0;34m\u001b[0m\u001b[0m\n\u001b[0;32m-> 1732\u001b[0;31m             \u001b[0mret\u001b[0m \u001b[0;34m=\u001b[0m \u001b[0mself\u001b[0m\u001b[0;34m.\u001b[0m\u001b[0mconverter\u001b[0m\u001b[0;34m.\u001b[0m\u001b[0mconvert\u001b[0m\u001b[0;34m(\u001b[0m\u001b[0mx\u001b[0m\u001b[0;34m,\u001b[0m \u001b[0mself\u001b[0m\u001b[0;34m.\u001b[0m\u001b[0munits\u001b[0m\u001b[0;34m,\u001b[0m \u001b[0mself\u001b[0m\u001b[0;34m)\u001b[0m\u001b[0;34m\u001b[0m\u001b[0;34m\u001b[0m\u001b[0m\n\u001b[0m\u001b[1;32m   1733\u001b[0m         \u001b[0;32mexcept\u001b[0m \u001b[0mException\u001b[0m \u001b[0;32mas\u001b[0m \u001b[0me\u001b[0m\u001b[0;34m:\u001b[0m\u001b[0;34m\u001b[0m\u001b[0;34m\u001b[0m\u001b[0m\n",
            "\u001b[0;32m/usr/local/lib/python3.10/dist-packages/matplotlib/category.py\u001b[0m in \u001b[0;36mconvert\u001b[0;34m(value, unit, axis)\u001b[0m\n\u001b[1;32m     56\u001b[0m         \u001b[0;31m# force an update so it also does type checking\u001b[0m\u001b[0;34m\u001b[0m\u001b[0;34m\u001b[0m\u001b[0m\n\u001b[0;32m---> 57\u001b[0;31m         \u001b[0munit\u001b[0m\u001b[0;34m.\u001b[0m\u001b[0mupdate\u001b[0m\u001b[0;34m(\u001b[0m\u001b[0mvalues\u001b[0m\u001b[0;34m)\u001b[0m\u001b[0;34m\u001b[0m\u001b[0;34m\u001b[0m\u001b[0m\n\u001b[0m\u001b[1;32m     58\u001b[0m         \u001b[0;32mreturn\u001b[0m \u001b[0mnp\u001b[0m\u001b[0;34m.\u001b[0m\u001b[0mvectorize\u001b[0m\u001b[0;34m(\u001b[0m\u001b[0munit\u001b[0m\u001b[0;34m.\u001b[0m\u001b[0m_mapping\u001b[0m\u001b[0;34m.\u001b[0m\u001b[0m__getitem__\u001b[0m\u001b[0;34m,\u001b[0m \u001b[0motypes\u001b[0m\u001b[0;34m=\u001b[0m\u001b[0;34m[\u001b[0m\u001b[0mfloat\u001b[0m\u001b[0;34m]\u001b[0m\u001b[0;34m)\u001b[0m\u001b[0;34m(\u001b[0m\u001b[0mvalues\u001b[0m\u001b[0;34m)\u001b[0m\u001b[0;34m\u001b[0m\u001b[0;34m\u001b[0m\u001b[0m\n",
            "\u001b[0;32m/usr/local/lib/python3.10/dist-packages/matplotlib/category.py\u001b[0m in \u001b[0;36mupdate\u001b[0;34m(self, data)\u001b[0m\n\u001b[1;32m    215\u001b[0m             \u001b[0;31m# OrderedDict just iterates over unique values in data.\u001b[0m\u001b[0;34m\u001b[0m\u001b[0;34m\u001b[0m\u001b[0m\n\u001b[0;32m--> 216\u001b[0;31m             \u001b[0m_api\u001b[0m\u001b[0;34m.\u001b[0m\u001b[0mcheck_isinstance\u001b[0m\u001b[0;34m(\u001b[0m\u001b[0;34m(\u001b[0m\u001b[0mstr\u001b[0m\u001b[0;34m,\u001b[0m \u001b[0mbytes\u001b[0m\u001b[0;34m)\u001b[0m\u001b[0;34m,\u001b[0m \u001b[0mvalue\u001b[0m\u001b[0;34m=\u001b[0m\u001b[0mval\u001b[0m\u001b[0;34m)\u001b[0m\u001b[0;34m\u001b[0m\u001b[0;34m\u001b[0m\u001b[0m\n\u001b[0m\u001b[1;32m    217\u001b[0m             \u001b[0;32mif\u001b[0m \u001b[0mconvertible\u001b[0m\u001b[0;34m:\u001b[0m\u001b[0;34m\u001b[0m\u001b[0;34m\u001b[0m\u001b[0m\n",
            "\u001b[0;32m/usr/local/lib/python3.10/dist-packages/matplotlib/_api/__init__.py\u001b[0m in \u001b[0;36mcheck_isinstance\u001b[0;34m(_types, **kwargs)\u001b[0m\n\u001b[1;32m     92\u001b[0m                 \u001b[0mnames\u001b[0m\u001b[0;34m.\u001b[0m\u001b[0mappend\u001b[0m\u001b[0;34m(\u001b[0m\u001b[0;34m\"None\"\u001b[0m\u001b[0;34m)\u001b[0m\u001b[0;34m\u001b[0m\u001b[0;34m\u001b[0m\u001b[0m\n\u001b[0;32m---> 93\u001b[0;31m             raise TypeError(\n\u001b[0m\u001b[1;32m     94\u001b[0m                 \"{!r} must be an instance of {}, not a {}\".format(\n",
            "\u001b[0;31mTypeError\u001b[0m: 'value' must be an instance of str or bytes, not a float",
            "\nThe above exception was the direct cause of the following exception:\n",
            "\u001b[0;31mConversionError\u001b[0m                           Traceback (most recent call last)",
            "\u001b[0;32m<ipython-input-25-0239e14ecd01>\u001b[0m in \u001b[0;36m<cell line: 10>\u001b[0;34m()\u001b[0m\n\u001b[1;32m      9\u001b[0m \u001b[0mplt\u001b[0m\u001b[0;34m.\u001b[0m\u001b[0mfigure\u001b[0m\u001b[0;34m(\u001b[0m\u001b[0mfigsize\u001b[0m\u001b[0;34m=\u001b[0m\u001b[0;34m(\u001b[0m\u001b[0;36m10\u001b[0m\u001b[0;34m,\u001b[0m \u001b[0;36m6\u001b[0m\u001b[0;34m)\u001b[0m\u001b[0;34m)\u001b[0m\u001b[0;34m\u001b[0m\u001b[0;34m\u001b[0m\u001b[0m\n\u001b[1;32m     10\u001b[0m \u001b[0;32mfor\u001b[0m \u001b[0mage_range\u001b[0m \u001b[0;32min\u001b[0m \u001b[0mlabels\u001b[0m\u001b[0;34m:\u001b[0m\u001b[0;34m\u001b[0m\u001b[0;34m\u001b[0m\u001b[0m\n\u001b[0;32m---> 11\u001b[0;31m     \u001b[0mplt\u001b[0m\u001b[0;34m.\u001b[0m\u001b[0mscatter\u001b[0m\u001b[0;34m(\u001b[0m\u001b[0mdf\u001b[0m\u001b[0;34m[\u001b[0m\u001b[0mdf\u001b[0m\u001b[0;34m[\u001b[0m\u001b[0;34m'Age Range'\u001b[0m\u001b[0;34m]\u001b[0m \u001b[0;34m==\u001b[0m \u001b[0mage_range\u001b[0m\u001b[0;34m]\u001b[0m\u001b[0;34m[\u001b[0m\u001b[0;34m'Total years of experience'\u001b[0m\u001b[0;34m]\u001b[0m\u001b[0;34m,\u001b[0m \u001b[0mdf\u001b[0m\u001b[0;34m[\u001b[0m\u001b[0mdf\u001b[0m\u001b[0;34m[\u001b[0m\u001b[0;34m'Age Range'\u001b[0m\u001b[0;34m]\u001b[0m \u001b[0;34m==\u001b[0m \u001b[0mage_range\u001b[0m\u001b[0;34m]\u001b[0m\u001b[0;34m[\u001b[0m\u001b[0;34m'Age'\u001b[0m\u001b[0;34m]\u001b[0m\u001b[0;34m,\u001b[0m \u001b[0mlabel\u001b[0m\u001b[0;34m=\u001b[0m\u001b[0mage_range\u001b[0m\u001b[0;34m)\u001b[0m\u001b[0;34m\u001b[0m\u001b[0;34m\u001b[0m\u001b[0m\n\u001b[0m\u001b[1;32m     12\u001b[0m \u001b[0;34m\u001b[0m\u001b[0m\n\u001b[1;32m     13\u001b[0m \u001b[0mplt\u001b[0m\u001b[0;34m.\u001b[0m\u001b[0mxlabel\u001b[0m\u001b[0;34m(\u001b[0m\u001b[0;34m'Total years of experience'\u001b[0m\u001b[0;34m)\u001b[0m\u001b[0;34m\u001b[0m\u001b[0;34m\u001b[0m\u001b[0m\n",
            "\u001b[0;32m/usr/local/lib/python3.10/dist-packages/matplotlib/pyplot.py\u001b[0m in \u001b[0;36mscatter\u001b[0;34m(x, y, s, c, marker, cmap, norm, vmin, vmax, alpha, linewidths, edgecolors, plotnonfinite, data, **kwargs)\u001b[0m\n\u001b[1;32m   2860\u001b[0m         \u001b[0mvmin\u001b[0m\u001b[0;34m=\u001b[0m\u001b[0;32mNone\u001b[0m\u001b[0;34m,\u001b[0m \u001b[0mvmax\u001b[0m\u001b[0;34m=\u001b[0m\u001b[0;32mNone\u001b[0m\u001b[0;34m,\u001b[0m \u001b[0malpha\u001b[0m\u001b[0;34m=\u001b[0m\u001b[0;32mNone\u001b[0m\u001b[0;34m,\u001b[0m \u001b[0mlinewidths\u001b[0m\u001b[0;34m=\u001b[0m\u001b[0;32mNone\u001b[0m\u001b[0;34m,\u001b[0m \u001b[0;34m*\u001b[0m\u001b[0;34m,\u001b[0m\u001b[0;34m\u001b[0m\u001b[0;34m\u001b[0m\u001b[0m\n\u001b[1;32m   2861\u001b[0m         edgecolors=None, plotnonfinite=False, data=None, **kwargs):\n\u001b[0;32m-> 2862\u001b[0;31m     __ret = gca().scatter(\n\u001b[0m\u001b[1;32m   2863\u001b[0m         \u001b[0mx\u001b[0m\u001b[0;34m,\u001b[0m \u001b[0my\u001b[0m\u001b[0;34m,\u001b[0m \u001b[0ms\u001b[0m\u001b[0;34m=\u001b[0m\u001b[0ms\u001b[0m\u001b[0;34m,\u001b[0m \u001b[0mc\u001b[0m\u001b[0;34m=\u001b[0m\u001b[0mc\u001b[0m\u001b[0;34m,\u001b[0m \u001b[0mmarker\u001b[0m\u001b[0;34m=\u001b[0m\u001b[0mmarker\u001b[0m\u001b[0;34m,\u001b[0m \u001b[0mcmap\u001b[0m\u001b[0;34m=\u001b[0m\u001b[0mcmap\u001b[0m\u001b[0;34m,\u001b[0m \u001b[0mnorm\u001b[0m\u001b[0;34m=\u001b[0m\u001b[0mnorm\u001b[0m\u001b[0;34m,\u001b[0m\u001b[0;34m\u001b[0m\u001b[0;34m\u001b[0m\u001b[0m\n\u001b[1;32m   2864\u001b[0m         \u001b[0mvmin\u001b[0m\u001b[0;34m=\u001b[0m\u001b[0mvmin\u001b[0m\u001b[0;34m,\u001b[0m \u001b[0mvmax\u001b[0m\u001b[0;34m=\u001b[0m\u001b[0mvmax\u001b[0m\u001b[0;34m,\u001b[0m \u001b[0malpha\u001b[0m\u001b[0;34m=\u001b[0m\u001b[0malpha\u001b[0m\u001b[0;34m,\u001b[0m \u001b[0mlinewidths\u001b[0m\u001b[0;34m=\u001b[0m\u001b[0mlinewidths\u001b[0m\u001b[0;34m,\u001b[0m\u001b[0;34m\u001b[0m\u001b[0;34m\u001b[0m\u001b[0m\n",
            "\u001b[0;32m/usr/local/lib/python3.10/dist-packages/matplotlib/__init__.py\u001b[0m in \u001b[0;36minner\u001b[0;34m(ax, data, *args, **kwargs)\u001b[0m\n\u001b[1;32m   1440\u001b[0m     \u001b[0;32mdef\u001b[0m \u001b[0minner\u001b[0m\u001b[0;34m(\u001b[0m\u001b[0max\u001b[0m\u001b[0;34m,\u001b[0m \u001b[0;34m*\u001b[0m\u001b[0margs\u001b[0m\u001b[0;34m,\u001b[0m \u001b[0mdata\u001b[0m\u001b[0;34m=\u001b[0m\u001b[0;32mNone\u001b[0m\u001b[0;34m,\u001b[0m \u001b[0;34m**\u001b[0m\u001b[0mkwargs\u001b[0m\u001b[0;34m)\u001b[0m\u001b[0;34m:\u001b[0m\u001b[0;34m\u001b[0m\u001b[0;34m\u001b[0m\u001b[0m\n\u001b[1;32m   1441\u001b[0m         \u001b[0;32mif\u001b[0m \u001b[0mdata\u001b[0m \u001b[0;32mis\u001b[0m \u001b[0;32mNone\u001b[0m\u001b[0;34m:\u001b[0m\u001b[0;34m\u001b[0m\u001b[0;34m\u001b[0m\u001b[0m\n\u001b[0;32m-> 1442\u001b[0;31m             \u001b[0;32mreturn\u001b[0m \u001b[0mfunc\u001b[0m\u001b[0;34m(\u001b[0m\u001b[0max\u001b[0m\u001b[0;34m,\u001b[0m \u001b[0;34m*\u001b[0m\u001b[0mmap\u001b[0m\u001b[0;34m(\u001b[0m\u001b[0msanitize_sequence\u001b[0m\u001b[0;34m,\u001b[0m \u001b[0margs\u001b[0m\u001b[0;34m)\u001b[0m\u001b[0;34m,\u001b[0m \u001b[0;34m**\u001b[0m\u001b[0mkwargs\u001b[0m\u001b[0;34m)\u001b[0m\u001b[0;34m\u001b[0m\u001b[0;34m\u001b[0m\u001b[0m\n\u001b[0m\u001b[1;32m   1443\u001b[0m \u001b[0;34m\u001b[0m\u001b[0m\n\u001b[1;32m   1444\u001b[0m         \u001b[0mbound\u001b[0m \u001b[0;34m=\u001b[0m \u001b[0mnew_sig\u001b[0m\u001b[0;34m.\u001b[0m\u001b[0mbind\u001b[0m\u001b[0;34m(\u001b[0m\u001b[0max\u001b[0m\u001b[0;34m,\u001b[0m \u001b[0;34m*\u001b[0m\u001b[0margs\u001b[0m\u001b[0;34m,\u001b[0m \u001b[0;34m**\u001b[0m\u001b[0mkwargs\u001b[0m\u001b[0;34m)\u001b[0m\u001b[0;34m\u001b[0m\u001b[0;34m\u001b[0m\u001b[0m\n",
            "\u001b[0;32m/usr/local/lib/python3.10/dist-packages/matplotlib/axes/_axes.py\u001b[0m in \u001b[0;36mscatter\u001b[0;34m(self, x, y, s, c, marker, cmap, norm, vmin, vmax, alpha, linewidths, edgecolors, plotnonfinite, **kwargs)\u001b[0m\n\u001b[1;32m   4576\u001b[0m         \"\"\"\n\u001b[1;32m   4577\u001b[0m         \u001b[0;31m# Process **kwargs to handle aliases, conflicts with explicit kwargs:\u001b[0m\u001b[0;34m\u001b[0m\u001b[0;34m\u001b[0m\u001b[0m\n\u001b[0;32m-> 4578\u001b[0;31m         \u001b[0mx\u001b[0m\u001b[0;34m,\u001b[0m \u001b[0my\u001b[0m \u001b[0;34m=\u001b[0m \u001b[0mself\u001b[0m\u001b[0;34m.\u001b[0m\u001b[0m_process_unit_info\u001b[0m\u001b[0;34m(\u001b[0m\u001b[0;34m[\u001b[0m\u001b[0;34m(\u001b[0m\u001b[0;34m\"x\"\u001b[0m\u001b[0;34m,\u001b[0m \u001b[0mx\u001b[0m\u001b[0;34m)\u001b[0m\u001b[0;34m,\u001b[0m \u001b[0;34m(\u001b[0m\u001b[0;34m\"y\"\u001b[0m\u001b[0;34m,\u001b[0m \u001b[0my\u001b[0m\u001b[0;34m)\u001b[0m\u001b[0;34m]\u001b[0m\u001b[0;34m,\u001b[0m \u001b[0mkwargs\u001b[0m\u001b[0;34m)\u001b[0m\u001b[0;34m\u001b[0m\u001b[0;34m\u001b[0m\u001b[0m\n\u001b[0m\u001b[1;32m   4579\u001b[0m         \u001b[0;31m# np.ma.ravel yields an ndarray, not a masked array,\u001b[0m\u001b[0;34m\u001b[0m\u001b[0;34m\u001b[0m\u001b[0m\n\u001b[1;32m   4580\u001b[0m         \u001b[0;31m# unless its argument is a masked array.\u001b[0m\u001b[0;34m\u001b[0m\u001b[0;34m\u001b[0m\u001b[0m\n",
            "\u001b[0;32m/usr/local/lib/python3.10/dist-packages/matplotlib/axes/_base.py\u001b[0m in \u001b[0;36m_process_unit_info\u001b[0;34m(self, datasets, kwargs, convert)\u001b[0m\n\u001b[1;32m   2565\u001b[0m                     \u001b[0;32mif\u001b[0m \u001b[0mdataset_axis_name\u001b[0m \u001b[0;34m==\u001b[0m \u001b[0maxis_name\u001b[0m \u001b[0;32mand\u001b[0m \u001b[0mdata\u001b[0m \u001b[0;32mis\u001b[0m \u001b[0;32mnot\u001b[0m \u001b[0;32mNone\u001b[0m\u001b[0;34m:\u001b[0m\u001b[0;34m\u001b[0m\u001b[0;34m\u001b[0m\u001b[0m\n\u001b[1;32m   2566\u001b[0m                         \u001b[0maxis\u001b[0m\u001b[0;34m.\u001b[0m\u001b[0mupdate_units\u001b[0m\u001b[0;34m(\u001b[0m\u001b[0mdata\u001b[0m\u001b[0;34m)\u001b[0m\u001b[0;34m\u001b[0m\u001b[0;34m\u001b[0m\u001b[0m\n\u001b[0;32m-> 2567\u001b[0;31m         return [axis_map[axis_name].convert_units(data)\n\u001b[0m\u001b[1;32m   2568\u001b[0m                 \u001b[0;32mif\u001b[0m \u001b[0mconvert\u001b[0m \u001b[0;32mand\u001b[0m \u001b[0mdata\u001b[0m \u001b[0;32mis\u001b[0m \u001b[0;32mnot\u001b[0m \u001b[0;32mNone\u001b[0m \u001b[0;32melse\u001b[0m \u001b[0mdata\u001b[0m\u001b[0;34m\u001b[0m\u001b[0;34m\u001b[0m\u001b[0m\n\u001b[1;32m   2569\u001b[0m                 for axis_name, data in datasets]\n",
            "\u001b[0;32m/usr/local/lib/python3.10/dist-packages/matplotlib/axes/_base.py\u001b[0m in \u001b[0;36m<listcomp>\u001b[0;34m(.0)\u001b[0m\n\u001b[1;32m   2565\u001b[0m                     \u001b[0;32mif\u001b[0m \u001b[0mdataset_axis_name\u001b[0m \u001b[0;34m==\u001b[0m \u001b[0maxis_name\u001b[0m \u001b[0;32mand\u001b[0m \u001b[0mdata\u001b[0m \u001b[0;32mis\u001b[0m \u001b[0;32mnot\u001b[0m \u001b[0;32mNone\u001b[0m\u001b[0;34m:\u001b[0m\u001b[0;34m\u001b[0m\u001b[0;34m\u001b[0m\u001b[0m\n\u001b[1;32m   2566\u001b[0m                         \u001b[0maxis\u001b[0m\u001b[0;34m.\u001b[0m\u001b[0mupdate_units\u001b[0m\u001b[0;34m(\u001b[0m\u001b[0mdata\u001b[0m\u001b[0;34m)\u001b[0m\u001b[0;34m\u001b[0m\u001b[0;34m\u001b[0m\u001b[0m\n\u001b[0;32m-> 2567\u001b[0;31m         return [axis_map[axis_name].convert_units(data)\n\u001b[0m\u001b[1;32m   2568\u001b[0m                 \u001b[0;32mif\u001b[0m \u001b[0mconvert\u001b[0m \u001b[0;32mand\u001b[0m \u001b[0mdata\u001b[0m \u001b[0;32mis\u001b[0m \u001b[0;32mnot\u001b[0m \u001b[0;32mNone\u001b[0m \u001b[0;32melse\u001b[0m \u001b[0mdata\u001b[0m\u001b[0;34m\u001b[0m\u001b[0;34m\u001b[0m\u001b[0m\n\u001b[1;32m   2569\u001b[0m                 for axis_name, data in datasets]\n",
            "\u001b[0;32m/usr/local/lib/python3.10/dist-packages/matplotlib/axis.py\u001b[0m in \u001b[0;36mconvert_units\u001b[0;34m(self, x)\u001b[0m\n\u001b[1;32m   1732\u001b[0m             \u001b[0mret\u001b[0m \u001b[0;34m=\u001b[0m \u001b[0mself\u001b[0m\u001b[0;34m.\u001b[0m\u001b[0mconverter\u001b[0m\u001b[0;34m.\u001b[0m\u001b[0mconvert\u001b[0m\u001b[0;34m(\u001b[0m\u001b[0mx\u001b[0m\u001b[0;34m,\u001b[0m \u001b[0mself\u001b[0m\u001b[0;34m.\u001b[0m\u001b[0munits\u001b[0m\u001b[0;34m,\u001b[0m \u001b[0mself\u001b[0m\u001b[0;34m)\u001b[0m\u001b[0;34m\u001b[0m\u001b[0;34m\u001b[0m\u001b[0m\n\u001b[1;32m   1733\u001b[0m         \u001b[0;32mexcept\u001b[0m \u001b[0mException\u001b[0m \u001b[0;32mas\u001b[0m \u001b[0me\u001b[0m\u001b[0;34m:\u001b[0m\u001b[0;34m\u001b[0m\u001b[0;34m\u001b[0m\u001b[0m\n\u001b[0;32m-> 1734\u001b[0;31m             raise munits.ConversionError('Failed to convert value(s) to axis '\n\u001b[0m\u001b[1;32m   1735\u001b[0m                                          f'units: {x!r}') from e\n\u001b[1;32m   1736\u001b[0m         \u001b[0;32mreturn\u001b[0m \u001b[0mret\u001b[0m\u001b[0;34m\u001b[0m\u001b[0;34m\u001b[0m\u001b[0m\n",
            "\u001b[0;31mConversionError\u001b[0m: Failed to convert value(s) to axis units: 4       17\n5        5\n6        6\n9       15\n10       2\n        ..\n1246    18\n1247     7\n1248     9\n1249    10\n1250    15\nName: Total years of experience, Length: 721, dtype: object"
          ]
        },
        {
          "output_type": "display_data",
          "data": {
            "text/plain": [
              "<Figure size 1000x600 with 1 Axes>"
            ],
            "image/png": "[encoded data removed]"
          },
          "metadata": {}
        }
      ]
    },
    {
      "cell_type": "markdown",
      "source": [
        "Prompt : Beri kode untuk membandingkan Total fitur \"Yearly brutto salary (without bonus and stocks) in EUR\" dengan Age dalam rentang umur yang tadi, visualisasikan dengan stick diagram"
      ],
      "metadata": {
        "id": "GIMFLLQdfZyR"
      }
    },
    {
      "cell_type": "code",
      "source": [
        "# Membuat rentang umur dengan jarak 10 tahun\n",
        "bins = [20, 30, 40, 50, 60, 70]\n",
        "labels = ['20-29', '30-39', '40-49', '50-59', '60-69']\n",
        "\n",
        "# Menambahkan kolom baru 'Age Range' dengan rentang umur yang sesuai\n",
        "df['Age Range'] = pd.cut(df['Age'], bins=bins, labels=labels, right=False)\n",
        "\n",
        "# Menghitung rata-rata gaji tahunan brutto (tanpa bonus dan saham) untuk setiap rentang umur\n",
        "average_salary_by_age = df.groupby('Age Range')['Yearly brutto salary (without bonus and stocks) in EUR'].mean()\n",
        "\n",
        "# Plotting stick diagram untuk membandingkan rata-rata gaji tahunan brutto dengan rentang umur\n",
        "plt.figure(figsize=(10, 6))\n",
        "plt.stem(average_salary_by_age.index.astype(str), average_salary_by_age, markerfmt=' ', linefmt='b-')\n",
        "plt.xlabel('Age Range')\n",
        "plt.ylabel('Average Yearly brutto salary (without bonus and stocks) in EUR')\n",
        "plt.title('Perbandingan Rata-rata Yearly brutto salary (without bonus and stocks) dengan Rentang Umur')\n",
        "plt.grid(True, axis='y')\n",
        "plt.show()\n",
        ""
      ],
      "metadata": {
        "colab": {
          "base_uri": "https://localhost:8080/",
          "height": 579
        },
        "id": "PflqC4BCfcXQ",
        "outputId": "0ea06d44-6829-43bd-f9c1-90e180905dba"
      },
      "execution_count": 26,
      "outputs": [
        {
          "output_type": "display_data",
          "data": {
            "text/plain": [
              "<Figure size 1000x600 with 1 Axes>"
            ],
            "image/png": "[encoded data removed]"
          },
          "metadata": {}
        }
      ]
    }
  ]
}