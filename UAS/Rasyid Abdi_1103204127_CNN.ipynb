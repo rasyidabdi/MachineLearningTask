{
  "nbformat": 4,
  "nbformat_minor": 0,
  "metadata": {
    "colab": {
      "provenance": [],
      "gpuType": "T4",
      "authorship_tag": "ABX9TyPhMLzxtRPsLusCK8fBxri2",
      "include_colab_link": true
    },
    "kernelspec": {
      "name": "python3",
      "display_name": "Python 3"
    },
    "language_info": {
      "name": "python"
    },
    "accelerator": "GPU"
  },
  "cells": [
    {
      "cell_type": "markdown",
      "metadata": {
        "id": "view-in-github",
        "colab_type": "text"
      },
      "source": [
        "<a href=\"https://colab.research.google.com/github/rasyidabdi/MachineLearningTask/blob/main/UAS/Rasyid%20Abdi_1103204127_CNN.ipynb\" target=\"_parent\"><img src=\"https://colab.research.google.com/assets/colab-badge.svg\" alt=\"Open In Colab\"/></a>"
      ]
    },
    {
      "cell_type": "markdown",
      "source": [
        "Nama : Rasyid Abdi Gantoro\n",
        "\n",
        "Nim : 1103204127\n",
        "\n",
        "Dataset : MNIST FASHION\n",
        "\n",
        "Model : CNN\n"
      ],
      "metadata": {
        "id": "stJCtVMqe4C_"
      }
    },
    {
      "cell_type": "markdown",
      "source": [
        "**Import Library dan Dataset**"
      ],
      "metadata": {
        "id": "X0ai3A14fGIa"
      }
    },
    {
      "cell_type": "code",
      "execution_count": 1,
      "metadata": {
        "colab": {
          "base_uri": "https://localhost:8080/"
        },
        "id": "1oaSuMyqetWd",
        "outputId": "7625676b-00ea-4082-ec1d-fd2a1c4ba9be"
      },
      "outputs": [
        {
          "output_type": "stream",
          "name": "stdout",
          "text": [
            "Downloading data from https://storage.googleapis.com/tensorflow/tf-keras-datasets/train-labels-idx1-ubyte.gz\n",
            "29515/29515 [==============================] - 0s 0us/step\n",
            "Downloading data from https://storage.googleapis.com/tensorflow/tf-keras-datasets/train-images-idx3-ubyte.gz\n",
            "26421880/26421880 [==============================] - 0s 0us/step\n",
            "Downloading data from https://storage.googleapis.com/tensorflow/tf-keras-datasets/t10k-labels-idx1-ubyte.gz\n",
            "5148/5148 [==============================] - 0s 0us/step\n",
            "Downloading data from https://storage.googleapis.com/tensorflow/tf-keras-datasets/t10k-images-idx3-ubyte.gz\n",
            "4422102/4422102 [==============================] - 0s 0us/step\n"
          ]
        }
      ],
      "source": [
        "# Import library TensorFlow\n",
        "import tensorflow as tf\n",
        "\n",
        "# Import dataset Fashion MNIST dari modul datasets di Keras\n",
        "mnist = tf.keras.datasets.fashion_mnist\n",
        "\n",
        "# Memuat dataset Fashion MNIST dan membaginya menjadi set pelatihan dan set pengujian\n",
        "(training_images, training_labels), (test_images, test_labels) = mnist.load_data()"
      ]
    },
    {
      "cell_type": "code",
      "source": [
        "# Mencetak bentuk (shape) dari training_images, training_labels, test_images, dan test_labels\n",
        "print('X_train: ' + str(training_images.shape))\n",
        "print('Y_train: ' + str(training_labels.shape))\n",
        "print('X_test: ' + str(test_images.shape))\n",
        "print('Y_test: ' + str(test_labels.shape))"
      ],
      "metadata": {
        "id": "lRMZl1skfg5B",
        "outputId": "789045f2-31b6-411f-8657-9bec001a91ff",
        "colab": {
          "base_uri": "https://localhost:8080/"
        }
      },
      "execution_count": 2,
      "outputs": [
        {
          "output_type": "stream",
          "name": "stdout",
          "text": [
            "X_train: (60000, 28, 28)\n",
            "Y_train: (60000,)\n",
            "X_test: (10000, 28, 28)\n",
            "Y_test: (10000,)\n"
          ]
        }
      ]
    },
    {
      "cell_type": "code",
      "source": [
        "# Mengambil 100 data pertama dari set pelatihan dan set pengujian\n",
        "training_images = training_images[:100]\n",
        "training_labels = training_labels[:100]\n",
        "\n",
        "test_images = test_images[:100]\n",
        "test_labels = test_labels[:100]"
      ],
      "metadata": {
        "id": "qm87JkKwfkcs"
      },
      "execution_count": 3,
      "outputs": []
    },
    {
      "cell_type": "code",
      "source": [
        "# Mengimpor library numpy dan mengatur opsi tampilan\n",
        "import numpy as np\n",
        "np.set_printoptions(linewidth=200)\n",
        "\n",
        "# Mengimpor library matplotlib untuk visualisasi\n",
        "import matplotlib.pyplot as plt\n",
        "\n",
        "# Menentukan indeks data yang akan ditampilkan\n",
        "idx_data = 80 # Ganti sesuai indeks yang kita inginkan\n",
        "\n",
        "# Menampilkan gambar pada indeks yang ditentukan dari set pelatihan\n",
        "plt.imshow(training_images[idx_data])\n",
        "\n",
        "# Mencetak label dari data pada indeks yang ditentukan\n",
        "print(training_labels[idx_data])\n",
        "\n",
        "# Mencetak nilai piksel dari gambar pada indeks yang ditentukan\n",
        "print(training_images[idx_data])"
      ],
      "metadata": {
        "id": "eRoK_b2QfuAs",
        "outputId": "4c680c6c-dc76-4aac-a77c-c81a26a20bb0",
        "colab": {
          "base_uri": "https://localhost:8080/",
          "height": 955
        }
      },
      "execution_count": 4,
      "outputs": [
        {
          "output_type": "stream",
          "name": "stdout",
          "text": [
            "1\n",
            "[[  0   0   0   0   0   0   0   0   0   0 175 119 114  86  89  99 109 132   0   0   0   0   0   0   0   0   0   0]\n",
            " [  0   0   0   0   0   0   0   0   0  92 255 254 255 255 255 255 250 255  19   0   0   0   0   0   0   0   0   0]\n",
            " [  0   0   0   0   0   0   0   0   0 211 234 210 219 220 215 210 206 255 119   0   0   0   0   0   0   0   0   0]\n",
            " [  0   0   0   0   0   0   0   0   0 255 231 224 226 225 223 222 215 237 204   0   0   0   0   0   0   0   0   0]\n",
            " [  0   0   0   0   0   0   0   0  50 255 221 228 227 227 224 224 222 221 251   0   0   0   0   0   0   0   0   0]\n",
            " [  0   0   0   0   0   0   0   0 135 255 221 229 229 228 226 228 226 218 255  78   0   0   0   0   0   0   0   0]\n",
            " [  0   0   0   0   0   0   0   0 180 245 222 227 228 228 227 225 224 220 252 106   0   0   0   0   0   0   0   0]\n",
            " [  0   0   0   0   0   0   0   0 204 232 221 224 225 226 226 224 224 217 247 124   0   0   0   0   0   0   0   0]\n",
            " [  0   0   0   0   0   0   0   0 208 233 222 226 225 231 231 226 225 221 244 138   0   0   0   0   0   0   0   0]\n",
            " [  0   0   0   0   0   0   0   0 203 234 224 226 224 224 237 228 224 219 244 149   0   0   0   0   0   0   0   0]\n",
            " [  0   0   0   0   0   0   0   0 188 248 222 223 236 191 215 238 223 219 243 151   0   0   0   0   0   0   0   0]\n",
            " [  0   0   0   0   0   0   0   0 115 255 221 221 250 161 186 252 220 217 255 113   0   0   0   0   0   0   0   0]\n",
            " [  0   0   0   0   0   0   0   0  17 255 225 219 255 105 131 255 213 221 255  46   0   0   0   0   0   0   0   0]\n",
            " [  0   0   0   0   0   0   0   0   0 240 231 214 255  69  76 255 214 228 250   0   0   0   0   0   0   0   0   0]\n",
            " [  0   0   0   0   0   0   0   0   0 186 238 218 255  26  34 255 219 229 200   0   0   0   0   0   0   0   0   0]\n",
            " [  0   0   0   0   0   0   0   0   0 128 243 218 255  11  24 255 222 232 141   0   0   0   0   0   0   0   0   0]\n",
            " [  0   0   0   0   0   0   0   0   0 111 244 219 255   5  15 255 221 237 119   0   0   0   0   0   0   0   0   0]\n",
            " [  0   0   0   0   0   0   0   0   0 114 243 222 255   0   0 255 225 238 124   0   0   0   0   0   0   0   0   0]\n",
            " [  0   0   0   0   0   0   0   0   0 151 241 228 232   0   0 238 232 235 153   0   0   0   0   0   0   0   0   0]\n",
            " [  0   0   0   0   0   0   0   0   0 203 235 235 192   0   0 201 236 234 187   0   0   0   0   0   0   0   0   0]\n",
            " [  0   0   0   0   0   0   0   0   0 217 232 240 147   0   0 177 241 231 202   0   0   0   0   0   0   0   0   0]\n",
            " [  0   0   0   0   0   0   0   0   0 227 233 239 124   0   0 158 243 232 205   0   0   0   0   0   0   0   0   0]\n",
            " [  0   0   0   0   0   0   0   0   0 221 233 238  64   0   0 120 243 235 197   0   0   0   0   0   0   0   0   0]\n",
            " [  0   0   0   0   0   0   0   0   0 202 240 221   0   0   0  38 237 239 158   0   0   0   0   0   0   0   0   0]\n",
            " [  0   0   0   0   0   0   0   0   0 184 246 192   0   0   0  18 230 240 120   0   0   0   0   0   0   0   0   0]\n",
            " [  0   0   0   0   0   0   0   0   0 177 248 172   0   0   0   0 220 239 124   0   0   0   0   0   0   0   0   0]\n",
            " [  0   0   0   0   0   0   0   0  30 194 245 179   0   2   0   0 209 245 227  43   0   0   0   0   0   0   0   0]\n",
            " [  0   0   0   0   0   0   0   0   0  40  16   2   0   0   0   0  21  35  29   9   0   0   0   0   0   0   0   0]]\n"
          ]
        },
        {
          "output_type": "display_data",
          "data": {
            "text/plain": [
              "<Figure size 640x480 with 1 Axes>"
            ],
            "image/png": "[encoded data removed]"
          },
          "metadata": {}
        }
      ]
    },
    {
      "cell_type": "markdown",
      "source": [
        "**Model CNN**"
      ],
      "metadata": {
        "id": "RBgibv8Pf8Kz"
      }
    },
    {
      "cell_type": "code",
      "source": [
        "# Membuat grafik akurasi pelatihan dan validasi dari riwayat pelatihan model menggunakan TensorFlow dan Keras\n",
        "import tensorflow as tf\n",
        "from tensorflow.keras.models import Sequential\n",
        "from tensorflow.keras.layers import Conv2D, MaxPooling2D, Flatten, Dense\n",
        "import matplotlib.pyplot as plt\n",
        "\n",
        "# Load dataset\n",
        "mnist = tf.keras.datasets.fashion_mnist\n",
        "(training_images, training_labels), (test_images, test_labels) = mnist.load_data()\n",
        "\n",
        "# Preprocess dataset\n",
        "training_images = training_images.reshape((training_images.shape[0], 28, 28, 1)) / 255.0\n",
        "test_images = test_images.reshape((test_images.shape[0], 28, 28, 1)) / 255.0\n",
        "\n",
        "# Define model\n",
        "model = Sequential([\n",
        "    Conv2D(32, (3, 3), activation='relu', input_shape=(28, 28, 1)),  # Convolutional layer dengan 32 filter 3x3 dan ReLU activation\n",
        "    MaxPooling2D((2, 2)),  # Max pooling layer dengan filter 2x2\n",
        "    Conv2D(64, (3, 3), activation='relu'),  # Convolutional layer dengan 64 filter 3x3 dan ReLU activation\n",
        "    MaxPooling2D((2, 2)),  # Max pooling layer dengan filter 2x2\n",
        "    Flatten(),  # Meratakan output dari lapisan sebelumnya menjadi vektor\n",
        "    Dense(128, activation='relu'),  # Fully connected layer dengan 128 unit dan ReLU activation\n",
        "    Dense(10, activation='softmax')  # Output layer dengan 10 unit untuk klasifikasi 10 kategori dan softmax activation\n",
        "])\n",
        "\n",
        "# Compile model\n",
        "model.compile(optimizer='adam',\n",
        "              loss='sparse_categorical_crossentropy',\n",
        "              metrics=['accuracy'])\n",
        "\n",
        "# Train model\n",
        "history = model.fit(training_images, training_labels, epochs=10, validation_data=(test_images, test_labels))\n",
        "\n",
        "# Plot training history\n",
        "plt.plot(history.history['accuracy'], label='accuracy')  # Akurasi pelatihan\n",
        "plt.plot(history.history['val_accuracy'], label='val_accuracy')  # Akurasi validasi\n",
        "plt.xlabel('Epoch')  # Label sumbu X\n",
        "plt.ylabel('Accuracy')  # Label sumbu Y\n",
        "plt.ylim([0, 1])  # Rentang sumbu Y dari 0 hingga 1\n",
        "plt.legend(loc='lower right')  # Menampilkan legenda di sudut kanan bawah grafik\n",
        "plt.show()  # Menampilkan grafik\n"
      ],
      "metadata": {
        "id": "d2S-Q5jWf_Ai",
        "outputId": "b3952b7a-b86b-43b3-f4fa-44cd7a2c8b77",
        "colab": {
          "base_uri": "https://localhost:8080/",
          "height": 817
        }
      },
      "execution_count": 5,
      "outputs": [
        {
          "output_type": "stream",
          "name": "stdout",
          "text": [
            "Epoch 1/10\n",
            "1875/1875 [==============================] - 13s 5ms/step - loss: 0.4487 - accuracy: 0.8378 - val_loss: 0.3385 - val_accuracy: 0.8795\n",
            "Epoch 2/10\n",
            "1875/1875 [==============================] - 8s 4ms/step - loss: 0.2993 - accuracy: 0.8902 - val_loss: 0.2922 - val_accuracy: 0.8947\n",
            "Epoch 3/10\n",
            "1875/1875 [==============================] - 7s 4ms/step - loss: 0.2528 - accuracy: 0.9073 - val_loss: 0.2861 - val_accuracy: 0.8951\n",
            "Epoch 4/10\n",
            "1875/1875 [==============================] - 8s 4ms/step - loss: 0.2212 - accuracy: 0.9182 - val_loss: 0.2548 - val_accuracy: 0.9065\n",
            "Epoch 5/10\n",
            "1875/1875 [==============================] - 7s 4ms/step - loss: 0.1950 - accuracy: 0.9270 - val_loss: 0.2667 - val_accuracy: 0.9074\n",
            "Epoch 6/10\n",
            "1875/1875 [==============================] - 8s 4ms/step - loss: 0.1728 - accuracy: 0.9350 - val_loss: 0.2562 - val_accuracy: 0.9099\n",
            "Epoch 7/10\n",
            "1875/1875 [==============================] - 7s 4ms/step - loss: 0.1526 - accuracy: 0.9430 - val_loss: 0.2563 - val_accuracy: 0.9110\n",
            "Epoch 8/10\n",
            "1875/1875 [==============================] - 8s 4ms/step - loss: 0.1370 - accuracy: 0.9487 - val_loss: 0.2722 - val_accuracy: 0.9133\n",
            "Epoch 9/10\n",
            "1875/1875 [==============================] - 7s 4ms/step - loss: 0.1197 - accuracy: 0.9546 - val_loss: 0.2948 - val_accuracy: 0.9083\n",
            "Epoch 10/10\n",
            "1875/1875 [==============================] - 7s 4ms/step - loss: 0.1050 - accuracy: 0.9601 - val_loss: 0.2961 - val_accuracy: 0.9093\n"
          ]
        },
        {
          "output_type": "display_data",
          "data": {
            "text/plain": [
              "<Figure size 640x480 with 1 Axes>"
            ],
            "image/png": "[encoded data removed]"
          },
          "metadata": {}
        }
      ]
    },
    {
      "cell_type": "markdown",
      "source": [
        "Model Convolutional Neural Network (CNN) sangat cocok untuk dataset Fashion MNIST karena:\n",
        "\n",
        "1. Pengenalan Gambar: CNN mampu mengekstrak fitur-fitur penting dari gambar pakaian seperti pola, tekstur, dan bentuk, berkat lapisan konvolusi dan pooling-nya.\n",
        "\n",
        "2. Pengurangan Dimensi: Lapisan max pooling membantu mengurangi dimensi gambar sambil mempertahankan informasi penting, memungkinkan model untuk fokus pada fitur-fitur yang relevan.\n",
        "\n",
        "3. Klasifikasi Efisien: Dengan lapisan Dense dan softmax, CNN dapat mengklasifikasikan gambar ke dalam 10 kategori pakaian secara efisien berdasarkan fitur-fitur yang dipelajari.\n",
        "\n",
        "4. Performa Tinggi: CNN telah terbukti memberikan akurasi yang tinggi dalam klasifikasi gambar, menjadikannya pilihan yang ideal untuk tugas-tugas seperti pengenalan pola pada dataset Fashion MNIST."
      ],
      "metadata": {
        "id": "UrrLPz6lghre"
      }
    }
  ]
}